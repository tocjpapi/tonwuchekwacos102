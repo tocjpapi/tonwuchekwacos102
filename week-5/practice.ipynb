{
 "cells": [
  {
   "cell_type": "code",
   "execution_count": 1,
   "id": "4af6e7f8-273c-4b4e-9853-0e82e5c5a699",
   "metadata": {},
   "outputs": [
    {
     "name": "stdout",
     "output_type": "stream",
     "text": [
      "I'm first call to user defined function!\n",
      "Again second call to the same function\n"
     ]
    }
   ],
   "source": [
    "def printme( str ):\n",
    "    #This is a print function\n",
    "    print (str);\n",
    "    return;\n",
    "\n",
    "printme(\"I'm first call to user defined function!\");\n",
    "printme(\"Again second call to the same function\");"
   ]
  },
  {
   "cell_type": "code",
   "execution_count": 2,
   "id": "892ac829-29d0-4616-a3b2-b5ad9548199f",
   "metadata": {},
   "outputs": [
    {
     "name": "stdout",
     "output_type": "stream",
     "text": [
      "Values inside the function:  [10, 20, 30, [1, 2, 3, 4]]\n",
      "Values outside the function:  [10, 20, 30, [1, 2, 3, 4]]\n"
     ]
    }
   ],
   "source": [
    "def changeme( mylist ):\n",
    "    #This changes a passed list\n",
    "    mylist.append([1,2,3,4])\n",
    "    print (\"Values inside the function: \", mylist)\n",
    "    return\n",
    "mylist = [10, 20, 30]\n",
    "changeme( mylist )\n",
    "print (\"Values outside the function: \", mylist)"
   ]
  },
  {
   "cell_type": "code",
   "execution_count": 4,
   "id": "0a98c5b2-5c33-4d0c-b72e-d0072ce53447",
   "metadata": {},
   "outputs": [
    {
     "name": "stdout",
     "output_type": "stream",
     "text": [
      "Values inside the function:  [1, 2, 3, 4]\n",
      "Values outside the function:  [10, 20, 30]\n"
     ]
    }
   ],
   "source": [
    "def changeme( mylist ):\n",
    "    #This changes a passed list\n",
    "    mylist = [1,2,3,4];\n",
    "    print(\"Values inside the function: \", mylist)\n",
    "    return\n",
    "mylist = [10,20,30];\n",
    "changeme( mylist );\n",
    "print (\"Values outside the function: \", mylist)"
   ]
  },
  {
   "cell_type": "code",
   "execution_count": 5,
   "id": "7f7f178f-f147-4c28-96c1-8477355cd143",
   "metadata": {},
   "outputs": [
    {
     "name": "stdout",
     "output_type": "stream",
     "text": [
      "My string\n"
     ]
    }
   ],
   "source": [
    "def printme( str ):\n",
    "    #This prints a passed string\n",
    "    print (str);\n",
    "    return;\n",
    "printme( str = \"My string\");"
   ]
  },
  {
   "cell_type": "code",
   "execution_count": null,
   "id": "7e3d14be-53c6-4fb6-ae9a-965e16712a4b",
   "metadata": {},
   "outputs": [],
   "source": [
    "def printinfo( name, age ):\n",
    "    #Test function\n",
    "    print (\"Name: \", name);\n",
    "    print (\"Age: \", age);\n",
    "    return;\n",
    "printinfo( age=50, name=\"miki\" );"
   ]
  },
  {
   "cell_type": "code",
   "execution_count": null,
   "id": "ee695d77-2582-4407-9e8a-50ebab97a6a7",
   "metadata": {},
   "outputs": [],
   "source": [
    "def printinfo( name, age = 35 ):\n",
    "    #Test function\n",
    "    print (\"Name: \", name);\n",
    "    print (\"Age: \", age);\n",
    "    return;\n",
    "printinfo( age=50, name=\"miki\" );\n",
    "printinfo( name=\"miki\" );"
   ]
  },
  {
   "cell_type": "code",
   "execution_count": null,
   "id": "be6d63c5-796a-49ac-bb34-51b062274964",
   "metadata": {},
   "outputs": [],
   "source": [
    "def printinfo( arg1, *vartuple ):\n",
    "    #This is test\n",
    "    print (\"Output is: \")\n",
    "    print (arg1)\n",
    "    for var in vartuple:\n",
    "        print (var)\n",
    "        return;\n",
    "printinfo( 10 );\n",
    "printinfo( 70, 60, 50 );"
   ]
  },
  {
   "cell_type": "code",
   "execution_count": null,
   "id": "49c9714b-5883-454f-9066-0ce679271085",
   "metadata": {},
   "outputs": [],
   "source": [
    "total = 50; # This is global variable.\n",
    "def sum( arg1, arg2 ):\n",
    "    # Add both the parameters\n",
    "    total = arg1 + arg2;\n",
    "    print (\"Inside the function local total : \", total)\n",
    "    return total;\n",
    "# Now you can call sum function\n",
    "sum( 10, 20 );\n",
    "print (\"Outside the function global total : \", total)"
   ]
  },
  {
   "cell_type": "code",
   "execution_count": null,
   "id": "e9cb93d7-802f-4aa5-aae0-8b749d0fe904",
   "metadata": {},
   "outputs": [],
   "source": [
    "def swap(x, y):\n",
    "    global a\n",
    "    a = \"Lawal\"\n",
    "    x,y = y,x\n",
    "    b = \"Chris\"\n",
    "    b = \"Edward\"\n",
    "    c = \"Lola\"\n",
    "    print(a,b,x,y)\n",
    "    a = \"Mary\"\n",
    "swap(\"Tina\",\"Tolu\")\n",
    "print (a)"
   ]
  },
  {
   "cell_type": "code",
   "execution_count": null,
   "id": "c2c458a8-afea-45d0-bdac-1132c44464a4",
   "metadata": {},
   "outputs": [],
   "source": [
    "\n",
    "import tkinter as tk\n",
    "\n",
    "# Handling button click event\n",
    "def button_click():\n",
    "    #print(\"Button clicked!\")\n",
    "\n",
    "    # Show an information message box\n",
    "    msgbox.showinfo(\"Info\", \"Welcome to COS 102 GUI App!\\n\")\n",
    "\n",
    "    # Ask for user confirmation\n",
    "    result = msgbox.askyesno(\"Confirmation\", \"Do you want to continue?\")\n",
    "\n",
    "# Create the main window\n",
    "root = tk. Tk()\n",
    "root.title(\"Home Page\")\n",
    "root.geometry(\"300x100\")\n",
    "\n",
    "# Add a label widget\n",
    "label = tk.Label(root, text=\"Hello Friend \\n\")\n",
    "label.pack()\n",
    "\n",
    "# Add a button widget\n",
    "button = tk.Button(root, text=\"Click Me!\", command=button_click)\n",
    "button.pack()\n",
    "\n",
    "# Styling the button widget\n",
    "button.config(fg=\"red\", bg=\"yellow\")\n",
    "\n",
    "# Start the event Loop\n",
    "root.mainloop()"
   ]
  },
  {
   "cell_type": "code",
   "execution_count": null,
   "id": "bde97c2e-0454-47f3-a76c-c08e6c0aca35",
   "metadata": {},
   "outputs": [],
   "source": [
    "import tkinter as tk\n",
    "from tkinter import messagebox\n",
    "from PIL import Image, ImageTk\n",
    "\n",
    "def welcomeMessage(username):\n",
    "    # Create a Tkinter window\n",
    "    window = tk.Toplevel(root)\n",
    "    window.title(\"Admin Box\")\n",
    "    window.geometry(\"500x200\")\n",
    "\n",
    "    label_1 = tk.Label(window, text=f\"Welcome {username}\\n\")\n",
    "    label_1.pack()\n",
    "    label_2 = tk.Label(window, text=\"This is Python GUI with Tkinter\")\n",
    "    label_2.pack()\n",
    "\n",
    "    # Run the Tkinter event Loop\n",
    "    root.mainloop()\n",
    "\n",
    "def submit():\n",
    "    username = username_entry.get()\n",
    "    password = password_entry.get()\n",
    "\n",
    "    if username == \"Mary\" and password == \"cos102\":\n",
    "        welcomeMessage(username)\n",
    "    else:\n",
    "        messagebox.showerror(\"Login\", \"Invalid username or password\")\n",
    "\n",
    "# Create main window\n",
    "root = tk. Tk()\n",
    "root.title(\"Login Form\")\n",
    "root.geometry(\"500x200\")\n",
    "\n",
    "# Create username Label and entry\n",
    "username_label = tk. Label(root, text=\"Username:\")\n",
    "username_label.pack()\n",
    "username_entry = tk. Entry(root)\n",
    "username_entry.pack()\n",
    "\n",
    "# Create password Label and entry\n",
    "password_label = tk. Label(root, text=\"Password:\")\n",
    "password_label.pack()\n",
    "password_entry = tk.Entry(root, show=\"*\")\n",
    "password_entry.pack()\n",
    "\n",
    "# Create submit button\n",
    "submit_button = tk.Button(root, text=\"Submit\", command=submit)\n",
    "submit_button.pack()\n",
    "\n",
    "# Run the main event Loop\n",
    "root.mainloop()\n"
   ]
  },
  {
   "cell_type": "code",
   "execution_count": null,
   "id": "bf5f392c-c525-4b27-8c50-c5f9e702b7ce",
   "metadata": {},
   "outputs": [],
   "source": []
  }
 ],
 "metadata": {
  "kernelspec": {
   "display_name": "Python 3 (ipykernel)",
   "language": "python",
   "name": "python3"
  },
  "language_info": {
   "codemirror_mode": {
    "name": "ipython",
    "version": 3
   },
   "file_extension": ".py",
   "mimetype": "text/x-python",
   "name": "python",
   "nbconvert_exporter": "python",
   "pygments_lexer": "ipython3",
   "version": "3.11.7"
  }
 },
 "nbformat": 4,
 "nbformat_minor": 5
}
