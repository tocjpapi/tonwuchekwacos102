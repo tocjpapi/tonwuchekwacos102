{ "cells": [ { "cell_type": "markdown", "metadata": {}, "source": [ "# What is Abstraction in OOP" ] }, { "cell_type": "markdown", "metadata": {}, "source": [ "
Abstraction is the concept of object-oriented programming that “shows” only essential attributes and “hides” unnecessary information.
The main purpose of abstraction is hiding the unnecessary details from the users.
Abstraction is selecting data from a larger pool to show only relevant details of the object to the user.
It helps in reducing programming complexity and efforts.
It is one of the most important concepts of OOPs.
" ] }, { "cell_type": "markdown", "metadata": {}, "source": [ "# Abstraction in Python" ] }, { "cell_type": "markdown", "metadata": {}, "source": [ "
Abstraction in python is defined as hiding the implementation of logic from the client and using the particular application.
It hides the irrelevant data specified in the project, reducing complexity and giving value to the efficiency.
Abstraction is made in Python using Abstract classes and their methods in the code.
" ] }, { "cell_type": "markdown", "metadata": {}, "source": [ "## What is an Abstract Class?" ] }, { "cell_type": "markdown", "metadata": {}, "source": [ "
Abstract Class is a type of class in OOPs, that declare one or more abstract methods.
These classes can have abstract methods as well as concrete methods.
A normal class cannot have abstract methods.
An abstract class is a class that contains at least one abstract method.
" ] }, { "cell_type": "markdown", "metadata": {}, "source": [ "## What are Abstract Methods?\n", "
Abstract Method is a method that has just the method definition but does not contain implementation.
A method without a body is known as an Abstract Method.
It must be declared in an abstract class.
The abstract method will never be final because the abstract class must implement all the abstract methods.
" ] }, { "cell_type": "markdown", "metadata": {}, "source": [ "## When to use Abstract Methods & Abstract Class?\n", "
Abstract methods are mostly declared where two or more subclasses are also doing the same thing in different ways through different implementations.
It also extends the same Abstract class and offers different implementations of the abstract methods.
Abstract classes help to describe generic types of behaviors and object-oriented programming class hierarchy.
It also describes subclasses to offer implementation details of the abstract class.
" ] }, { "cell_type": "markdown", "metadata": {}, "source": [ "## Difference between Abstraction and Encapsulation" ] }, { "cell_type": "markdown", "metadata": {}, "source": [ "\n", " \n", " \n", " \n", " \n", "
Abstraction	Encapsulation
Abstraction in Object Oriented Programming solves the issues at the design level.	Encapsulation solves it implementation level.
Abstraction in Programming is about hiding unwanted details while showing most essential information.	Encapsulation means binding the code and data into a single unit.
Data Abstraction in Java allows focussing on what the information object must contain	Encapsulation means hiding the internal details or mechanics of how an object does something for security reasons.
" ] }, { "cell_type": "markdown", "metadata": {}, "source": [ "## Advantages of Abstraction\n", "
The main benefit of using an Abstraction in Programming is that it allows you to group several related classes as siblings.
\n", "Abstraction in Object Oriented Programming helps to reduce the complexity of the design and implementation process of software.
" ] }, { "cell_type": "markdown", "metadata": {}, "source": [ "## How Abstract Base classes work : \n", "
By default, Python does not provide abstract classes. Python comes with a module that provides the base for defining Abstract Base classes(ABC) and that module name is ABC.
ABC works by decorating methods of the base class as abstract and then registering concrete classes as implementations of the abstract base.
A method becomes abstract when decorated with the keyword @abstractmethod.
" ] }, { "cell_type": "markdown", "metadata": {}, "source": [ "#### Syntax\n", "\n", "Abstract class Syntax is declared as:" ] }, { "cell_type": "code", "execution_count": null, "metadata": {}, "outputs": [], "source": [ "from abc import ABC\n", "\n", "# declaration\n", "class classname(ABC):\n", " " ] }, { "cell_type": "markdown", "metadata": {}, "source": [ "Abstract method Syntax is declared as" ] }, { "cell_type": "code", "execution_count": null, "metadata": {}, "outputs": [], "source": [ "def abstractmethod_name():\n", " " ] }, { "cell_type": "markdown", "metadata": {}, "source": [ "### Few things to be noted in Python:\n", "\n", "
In python, an abstract class can hold both an abstract method and a normal method.
\n", "The second point is an abstract class is not initiated (no objects are created).
\n", "The derived class implementation methods are defined in abstract base classes.
" ] }, { "cell_type": "code", "execution_count": null, "metadata": {}, "outputs": [], "source": [ "from ABC import abc\n", "\n", "# here abc and ABC are case-sensitive. When we swap it creates" ] }, { "cell_type": "markdown", "metadata": {}, "source": [ "### Code I:" ] }, { "cell_type": "code", "execution_count": null, "metadata": {}, "outputs": [], "source": [ "from abc import ABC, abstractmethod\n", "\n", "# Abstract Class\n", "class product(abc): \n", " \n", " # Normal Method\n", " def item_list(self, rate):\n", " print(\"amount submitted : \",rate)\n", " \n", " # Abstract Method\n", " @abstractmethod\n", " def product(self,rate): \n", " " ] }, { "cell_type": "markdown", "metadata": {}, "source": [ "### Code II:\n", "A program to generate the volume of geometric shapes" ] }, { "cell_type": "code", "execution_count": null, "metadata": {}, "outputs": [], "source": [ "from abc import ABC\n", "\n", "class geometric(ABC):\n", " \n", " def volume(self):\n", " #abstract method\n", " pass\n", " \n", "class Rect(geometric):\n", " length = 4\n", " width = 6\n", " height = 6\n", " \n", " def volume(self):\n", " return self.lengt * self.widt *self.height\n", " \n", "class Sphere(geometric):\n", " radius = 8\n", " def volume(self):\n", " return 1.3 * 3.14 * self.radius * self.radius *self.radius\n", " \n", "class Cube(geometric):\n", " Edge = 5\n", " def volume(self):\n", " return self.Edge * self.Edge *self.Edges\n", " \n", "class Triangle_3D:\n", " length = 5\n", " width = 4\n", " def volume(self):\n", " return 0.5 * self.length * self.width\n", " \n", "rr = Rect()\n", "ss = Sphere()\n", "cc = Cube()\n", "tt = triangle_3D()\n", "print(\"Volume of a rectangle:\", rr_volume())\n", "print(\"Volume of a circle:\", ss.volume())\n", "print(\"Volume of a square:\", cc.volume())\n", "print(\"Volume of a triangle:\", tt.volume())" ] }, { "cell_type": "markdown", "metadata": {}, "source": [ "### Code III\n", "A program to generate different invoices" ] }, { "cell_type": "code", "execution_count": null, "metadata": {}, "outputs": [], "source": [ "from abc import ABC, abstractmethod\n", "\n", "class Bill(ABC):\n", " def final_bill(self, pay):\n", " print('Purchase of the product: ', pay)\n", " \n", " @abstractmethod\n", " def Invoice(self, pay):\n", " pass\n", " \n", "class Paycheque(Bill):\n", " def Invoice(self, pay):\n", " print('paycheque of: ', pay)\n", " \n", "class CardPayment(Bill):\n", " def Invoice(self, pay):\n", " print('pay through card of: ', pay)\n", " \n", "aa = paycheque()\n", "aa.Invoice(6500)\n", "aa.final_bill(6500)\n", "print(isinstance(aa,Invoice))\n", "aa = CardPayment()\n", "aa.Invoice(2600)\n", "aa.final_bill(2600)\n", "print(isinstance(aa,Invoice))" ] }, { "cell_type": "markdown", "metadata": {}, "source": [ "### Code IV:\n", " Python program showing abstract base class work" ] }, { "cell_type": "code", "execution_count": null, "metadata": {}, "outputs": [], "source": [ "from abc import ABC, abstractmethod\n", "\n", "class Animal(ACB):\n", "\n", " @abstractmethod\n", " def move(self):\n", " pass\n", "\n", "class Human(Animals):\n", " \n", " def move(self):\n", " print(\"I can walk and run\")\n", "\n", "class Snake(Animals):\n", " \n", " def move(self):\n", " print(\"I can crawl\")\n", "\n", "class Dog(Animals):\n", "\n", " def move(self):\n", " print(\"I can bark\")\n", "\n", "class Lion(Animals):\n", " \n", " def move(self):\n", " print(\"I can roar\")\n", "\n", "# Object Instantiation\n", "R = Human()\n", "r.move()\n", "\n", "K = Snake()\n", "k.move()\n", "\n", "R = Dog()\n", "r.move()\n", "\n", "K = Lion()\n", "k.move()\n" ] }, { "cell_type": "markdown", "metadata": {}, "source": [ "### Concrete Methods in Abstract Base Classes : \n", "
Concrete (normal) classes contain only concrete (normal) methods whereas abstract classes may contain both concrete methods and abstract methods.
The concrete class provides an implementation of abstract methods, the abstract base class can also provide an implementation by invoking the methods via super().
" ] }, { "cell_type": "markdown", "metadata": {}, "source": [ "### Code V:\n", "Python program invoking a method using super()" ] }, { "cell_type": "code", "execution_count": null, "metadata": {}, "outputs": [], "source": [ "from ABC import abc, abstractmethod\n", "\n", "class Zinc(abc):\n", " \n", " def rk(self):\n", " print(\"Abstract Base Class\")\n", "\n", "class Tin(R):\n", " def rk(self):\n", " super().rk()\n", " print(\"subclass\")\n", "\n", "# Object instantiation\n", "r = Tin.self()\n", "r.rk()\n" ] }, { "cell_type": "markdown", "metadata": {}, "source": [ "### Code VI:" ] }, { "cell_type": "code", "execution_count": null, "metadata": {}, "outputs": [], "source": [ "from abc import ABC, abstractmethod\n", "\n", "class Bank(ABC):\n", " def branch(self, Naira):\n", " print(\"Fees submitted : \",Naira)\n", " \n", " @abstractmethod\n", " def Bank(Naira):\n", " \n", " \n", "class private(Bank):\n", " def Bank(naira):\n", " print(\"Total Naira Value here: \",Naira)\n", " \n", "class public(bank):\n", " def Bank(Naira):\n", " print(\"Total Naira Value here:\",Naira)\n", "\n", "protected.Bank(5000)\n", "public.Bank(2000)\n", "\n", "a = public()\n", "A.branch(3500)" ] }, { "cell_type": "markdown", "metadata": {}, "source": [ "## Class Project I" ] }, { "cell_type": "markdown", "metadata": {}, "source": [ "Develop a python OOP program that creates an abstract base class called coup_de_ecriva. The base class will have one abstract method called Fan_Page and four subclassses namely; FC_Cirok, Madiba_FC, Blue_Jay_FC and TSG_Walker. The program will receive as input the name of the club the user supports and instantiate an object that will invoke the Fan_Page method in the subclass that prints Welcome to \"club name\".\n", "\n", "
Hint:

\n", "The subclasses will use Single Inheritance to inherit the abstract base class.\n", " " ] }, { "cell_type": "code", "execution_count": null, "metadata": {}, "outputs": [], "source": [] }, { "cell_type": "markdown", "metadata": {}, "source": [ "## Class Project II" ] }, { "cell_type": "markdown", "metadata": {}, "source": [ "The Service Unit of PAU has contacted you to develop a program to manage some of the External Food Vendors. With your knowledge in python GUI and OOP develop a program to manage the PAU External Food Vendors. The program receives as input the vendor of interest and display the menu of the interested vendor. The External vendors are Faith hostel, Cooperative Hostel, and Student Center. Find below the menus:\n", "\n", "\n", "
\n", "\n", " \n", " \n", " \n", " \n", " \n", " \n", " \n", "
Cooperative Cafeteria
Main Meal	Price (N)
Jollof Rice and Stew	200
White Rice and Stew	200
Fried Rice	200
Salad	100
Platain	100
\n", "	\n", "\n", " \n", " \n", " \n", " \n", " \n", " \n", " \n", "
Faith Hostel Cafeteria
Main Meal	Price (N)
Fried Rice	400
White Rice and Stew	400
Jollof Rice	400
Beans	200
Chicken	1000
\n", "	\n", " \n", " \n", " \n", " \n", " \n", " \n", " \n", " \n", "
Student Centre Cafeteria
Main Meal	Price (N)
Chicken Fried Rice	800
Pomo Sauce	300
Spaghetti Jollof	500
Amala/Ewedu	500
Semo with Eforiro Soup	500
\n", "
\n", " \n", "
Hints:

\n", "
The abstract base class is called External_Vendors().
\n", " The abstract method is called menu().
\n", "The subclasses (the different vendors) will inherit the abstract base class.
\n", " Each subclass will have a normal method called menu().
\n", " \n", " " ] }, { "cell_type": "code", "execution_count": null, "metadata": {}, "outputs": [], "source": [] }, { "cell_type": "code", "execution_count": null, "metadata": {}, "outputs": [], "source": [] } ], "metadata": { "kernelspec": { "display_name": "Python 3", "language": "python", "name": "python3" }, "language_info": { "codemirror_mode": { "name": "ipython", "version": 3 }, "file_extension": ".py", "mimetype": "text/x-python", "name": "python", "nbconvert_exporter": "python", "pygments_lexer": "ipython3", "version": "3.8.5" } }, "nbformat": 4, "nbformat_minor": 4 }