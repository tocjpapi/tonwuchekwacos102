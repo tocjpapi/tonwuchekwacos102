{
 "cells": [
  {
   "cell_type": "code",
   "execution_count": 1,
   "id": "8ec19c3d-58d5-4c4d-8b7b-ff071b826346",
   "metadata": {},
   "outputs": [
    {
     "name": "stdout",
     "output_type": "stream",
     "text": [
      "         DATA ON GIRLS\n",
      "\tNAME\t  |AGE \t|HEIGHT\t |SCORE\n",
      "\tEvelyn\t  |17 \t|5.5\t |80\n",
      "\tJessica\t  |16 \t|6.0\t |85\n",
      "\tSomto\t  |17 \t|5.4\t |70\n",
      "\tEdith\t  |18 \t|5.9\t |60\n",
      "\tLiza\t  |16 \t|5.6\t |76\n",
      "\tMadonna\t  |18 \t|5.5\t |66\n",
      "\tWaje\t  |17 \t|6.1\t |87\n",
      "\tTola\t  |20 \t|6.0\t |95\n",
      "\tAisha\t  |19 \t|5.7\t |50\n",
      "\tLatifa\t  |17 \t|5.5\t |49\n",
      "\n",
      "\n",
      "         DATA ON BOYS\n",
      "\tNAME\t  |AGE \t|HEIGHT\t |SCORE\n",
      "\tChinedu\t  |19 \t|5.7\t |74\n",
      "\tLiam\t  |16 \t|5.9\t |87\n",
      "\tWale\t  |18 \t|5.8\t |75\n",
      "\tGbenga\t  |17 \t|6.1\t |68\n",
      "\tAbiola\t  |20 \t|5.9\t |66\n",
      "\tKola\t  |19 \t|5.5\t |78\n",
      "\tKunle\t  |16 \t|6.1\t |87\n",
      "\tGeorge\t  |18 \t|5.4\t |98\n",
      "\tThomas\t  |17 \t|5.8\t |54\n",
      "\tWesley\t  |19 \t|5.7\t |60\n"
     ]
    }
   ],
   "source": [
    "girl_names = [\"NAME\",\"Evelyn\", \"Jessica\", \"Somto\", \"Edith\", \"Liza\", \"Madonna\", \"Waje\", \"Tola\", \"Aisha\", \"Latifa\"]\n",
    "girl_ages = [\"AGE\",\"17\", \"16\",\"17\",\"18\",\"16\",\"18\",\"17\",\"20\",\"19\",\"17\"]\n",
    "girl_height = [\"HEIGHT\",\"5.5\",\"6.0\",\"5.4\",\"5.9\",\"5.6\",\"5.5\",\"6.1\",\"6.0\",\"5.7\",\"5.5\"]\n",
    "girl_scores = [\"SCORE\",\"80\",\"85\",\"70\",\"60\",\"76\",\"66\",\"87\",\"95\",\"50\",\"49\"]\n",
    "\n",
    "boy_names =  [\"NAME\",\"Chinedu\", \"Liam\", \"Wale\", \"Gbenga\", \"Abiola\", \"Kola\", \"Kunle\", \"George\", \"Thomas\", \"Wesley\"]\n",
    "boy_ages = [\"AGE\",\"19\",\"16\",\"18\",\"17\",\"20\",\"19\",\"16\",\"18\",\"17\",\"19\"]\n",
    "boy_height = [\"HEIGHT\",\"5.7\",\"5.9\",\"5.8\",\"6.1\",\"5.9\",\"5.5\",\"6.1\",\"5.4\",\"5.8\",\"5.7\"]\n",
    "boy_scores = [\"SCORE\",\"74\",\"87\",\"75\",\"68\",\"66\",\"78\",\"87\",\"98\",\"54\",\"60\"]\n",
    "\n",
    "def teams(name, age, height, scores):\n",
    "    for i in range(11):\n",
    "        print(f\"\\t{name[i]}\\t  |{age[i]} \\t|{height[i]}\\t |{scores[i]}\")\n",
    "\n",
    "print(\"         DATA ON GIRLS\")\n",
    "teams(girl_names,girl_ages,girl_height,girl_scores)\n",
    "print('')\n",
    "print('')\n",
    "print(\"         DATA ON BOYS\")\n",
    "teams(boy_names,boy_ages,boy_height,boy_scores)"
   ]
  },
  {
   "cell_type": "code",
   "execution_count": null,
   "id": "969c9351-e9ac-473c-a8bc-f11138a2e74b",
   "metadata": {},
   "outputs": [
    {
     "name": "stdout",
     "output_type": "stream",
     "text": [
      "welcome to Izifin Technology\n"
     ]
    },
    {
     "name": "stdin",
     "output_type": "stream",
     "text": [
      "Enter Name:  Nnamdi\n",
      "Enter age:  26\n",
      "Enter number of years of experience:  25\n"
     ]
    },
    {
     "name": "stdout",
     "output_type": "stream",
     "text": [
      "You are not qualified for the job\n",
      "welcome to Izifin Technology\n"
     ]
    }
   ],
   "source": [
    "for i in range(2501):\n",
    "    print(\"welcome to Izifin Technology\")\n",
    "    name = input('Enter Name: ')\n",
    "    age = int(input('Enter age: '))\n",
    "    years_of_exp = int(input('Enter number of years of experience: '))\n",
    "    if years_of_exp > 25 and age >= 55:\n",
    "        print('ATR = 5,600,000')\n",
    "    elif years_of_exp > 20 and age > 45:\n",
    "        print('ATR = 4,480,000')\n",
    "    elif years_of_exp > 10 and age >= 35:\n",
    "        print('ATR = 1,500,000')\n",
    "    elif years_of_exp <= 10 and age < 35:\n",
    "        print('ATR = 550,000')\n",
    "    else:\n",
    "        print('You are not qualified for the job')"
   ]
  },
  {
   "cell_type": "code",
   "execution_count": null,
   "id": "6324b5e7-ed99-4891-bf75-369b34a665dd",
   "metadata": {},
   "outputs": [],
   "source": []
  }
 ],
 "metadata": {
  "kernelspec": {
   "display_name": "Python 3 (ipykernel)",
   "language": "python",
   "name": "python3"
  },
  "language_info": {
   "codemirror_mode": {
    "name": "ipython",
    "version": 3
   },
   "file_extension": ".py",
   "mimetype": "text/x-python",
   "name": "python",
   "nbconvert_exporter": "python",
   "pygments_lexer": "ipython3",
   "version": "3.11.7"
  }
 },
 "nbformat": 4,
 "nbformat_minor": 5
}
