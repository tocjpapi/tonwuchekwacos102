{
 "cells": [
  {
   "cell_type": "markdown",
   "metadata": {},
   "source": [
    "# Encapsulation in Python"
   ]
  },
  {
   "cell_type": "markdown",
   "metadata": {},
   "source": [
    "<ul><li>Encapsulation is the concept of bundling data and methods within a single unit. For example, when you create a class, it means you are implementing encapsulation. A class is an example of encapsulation as it binds all the data members (instance variables) and methods into a single unit.</li><li>\n",
    "\n",
    "Using encapsulation, we can hide an object’s internal representation from the outside. This is called information hiding.</li><li>\n",
    "\n",
    "Encapsulation allows us to restrict accessing variables and methods directly and prevent accidental data modification by creating private data members and methods within a class.</li><li>\n",
    "\n",
    "Encapsulation is a way to restrict access to methods and variables from outside of class. Whenever working with the class and dealing with sensitive data, providing access to all variables used within the class is not a good choice.</li></ul>"
   ]
  },
  {
   "cell_type": "code",
   "execution_count": 8,
   "metadata": {},
   "outputs": [
    {
     "name": "stdin",
     "output_type": "stream",
     "text": [
      "Enter your name:  Nnamdi\n",
      "How much do you earn:  2000\n",
      "What project are you working on:  Caviar\n"
     ]
    },
    {
     "name": "stdout",
     "output_type": "stream",
     "text": [
      "\n",
      "Name:  Nnamdi \n",
      "Salary: N2000\n",
      "Nnamdi is working on Caviar\n"
     ]
    }
   ],
   "source": [
    "# A program that displays employees information\n",
    "\n",
    "class Employee:\n",
    "    \n",
    "    # constructor\n",
    "    def __init__(self, name, salary, project):        \n",
    "        # instance variables\n",
    "        self.name = name\n",
    "        self.salary = salary\n",
    "        self.project = project\n",
    "\n",
    "    # method to display employee's details\n",
    "    def show(self):        \n",
    "        # accessing public instance variables\n",
    "        print(\"\\nName: \" , self.name, '\\nSalary:', \"N\"+str(self.salary))\n",
    "\n",
    "    # method\n",
    "    def work(self):\n",
    "        print(self.name, 'is working on', self.project)\n",
    "\n",
    "\n",
    "name = input(\"Enter your name: \")\n",
    "salary = int(input(\"How much do you earn: \"))\n",
    "project = input(\"What project are you working on: \")\n",
    "\n",
    "# creating object of a class\n",
    "emp = Employee(name, salary, project)\n",
    "\n",
    "# calling public method of the class\n",
    "emp.show()\n",
    "emp.work()"
   ]
  },
  {
   "cell_type": "markdown",
   "metadata": {},
   "source": [
    "## Access Modifiers in Python"
   ]
  },
  {
   "cell_type": "markdown",
   "metadata": {},
   "source": [
    "<ul><li>Encapsulation can be achieved by declaring the data members and methods of a class either as private or protected.</li><li> In Python, there is no direct access modifiers like public, private, and protected. </li><li>This can achieve by using single underscore and double underscores.</li></ul>\n",
    "\n",
    "Access modifiers limit access to the variables and methods of a class. Python provides three types of access modifiers private, public, and protected.\n",
    "\n",
    "<ul><li><b>Public Instance Variable:</b> Accessible anywhere from outside oclass.</li><li>\n",
    "    <b>Private Instance Variable:</b> Accessible within the class.</li><li>\n",
    "    <b>Protected Instance Variable:</b> Accessible within the class and its sub-classes.</li></ul>"
   ]
  },
  {
   "cell_type": "markdown",
   "metadata": {},
   "source": [
    "### Public Instance Variable\n",
    "Public instance variables are accessible within and outside of a class. All member variables of the class are by default public."
   ]
  },
  {
   "cell_type": "code",
   "execution_count": 10,
   "metadata": {},
   "outputs": [
    {
     "name": "stdout",
     "output_type": "stream",
     "text": [
      "Name:  Abdurrahman Salary: N500000\n",
      "Name:  Abdurrahman Salary: N500000\n"
     ]
    }
   ],
   "source": [
    "class Employee:\n",
    "    \n",
    "    # constructor\n",
    "    def __init__(self, name, salary):        \n",
    "        # public instance variables\n",
    "        self.name = name\n",
    "        self.salary = salary\n",
    "\n",
    "    # public instance methods\n",
    "    def show(self):\n",
    "        # accessing public instance variables\n",
    "        print(\"Name: \", self.name, 'Salary:', \"N%s\"%(self.salary))\n",
    "\n",
    "# creating object of a class\n",
    "emp = Employee('Abdurrahman', 500000)\n",
    "\n",
    "# accessing public instance variables\n",
    "print(\"Name: \", emp.name, 'Salary:', \"N{}\".format(emp.salary))\n",
    "\n",
    "# calling public method of the class\n",
    "emp.show()"
   ]
  },
  {
   "cell_type": "markdown",
   "metadata": {},
   "source": [
    "### Private Instance Variable\n",
    "<ul><li>Protect variables in the class by marking them private. To define a private variable add two underscores as a prefix at the start of a variable name.</li><li>\n",
    "\n",
    "Private instance variables are accessible only within the class, and we can’t access them directly from the class objects.</li></ul>"
   ]
  },
  {
   "cell_type": "code",
   "execution_count": 18,
   "metadata": {},
   "outputs": [
    {
     "name": "stdout",
     "output_type": "stream",
     "text": [
      "Name:  Ugochi Mbaekwe\n",
      "Salary: 10000\n"
     ]
    }
   ],
   "source": [
    "class Employee:\n",
    "    \n",
    "    # constructor\n",
    "    def __init__(self, name, salary):        \n",
    "        # public instance variable\n",
    "        self.name = name\n",
    "        \n",
    "        # private variable\n",
    "        self.salary = salary\n",
    "\n",
    "# creating object of a class\n",
    "emp = Employee('Ugochi Mbaekwe', 10000)\n",
    "\n",
    "# accessing public instance variables\n",
    "print(\"Name: \", emp.name)\n",
    "\n",
    "# accessing private instance variable\n",
    "print('Salary:', emp.salary)"
   ]
  },
  {
   "cell_type": "markdown",
   "metadata": {},
   "source": [
    "To access private members from outside of a class using the following two approaches\n",
    "\n",
    "<ul><li>Create public method to access private members</li><li>\n",
    "Use name mangling</li></ul>"
   ]
  },
  {
   "cell_type": "markdown",
   "metadata": {},
   "source": [
    "#### Access Private member outside of a class using an instance method"
   ]
  },
  {
   "cell_type": "code",
   "execution_count": 19,
   "metadata": {},
   "outputs": [
    {
     "name": "stdout",
     "output_type": "stream",
     "text": [
      "Name:  Chikaodi Chinaka \n",
      "Salary: 250000\n"
     ]
    }
   ],
   "source": [
    "class Employee:\n",
    "    \n",
    "    # constructor\n",
    "    def __init__(self, name, salary):        \n",
    "        # public data member\n",
    "        self.name = name\n",
    "        \n",
    "        # private member\n",
    "        self.salary = salary\n",
    "\n",
    "    # public instance methods\n",
    "    def show(self):\n",
    "        # private members are accessible from a class\n",
    "        print(\"Name: \", self.name, '\\nSalary:', self.salary)\n",
    "\n",
    "# creating object of a class\n",
    "emp = Employee('Chikaodi Chinaka', 250000)\n",
    "\n",
    "# calling public method of the class\n",
    "emp.show()"
   ]
  },
  {
   "cell_type": "markdown",
   "metadata": {},
   "source": [
    "#### Name Mangling to access private members\n",
    "<ul><li>Private and protected variables can be directly accessed from outside of a class through name mangling.</li><li> The name mangling is created on an identifier by adding two leading underscores and one trailing underscore, like this <b>_classname__dataMember</b>, where <b><i>classname</i></b> is the current class, and data member is the private variable name.</li></ul>"
   ]
  },
  {
   "cell_type": "code",
   "execution_count": 20,
   "metadata": {},
   "outputs": [
    {
     "name": "stdout",
     "output_type": "stream",
     "text": [
      "Name: Oyindamola Apampa\n",
      "Salary: N900000\n"
     ]
    }
   ],
   "source": [
    "class Employee:\n",
    "    # constructor\n",
    "    def __init__(self, name, salary):\n",
    "        # public instance variable\n",
    "        self.name = name\n",
    "        \n",
    "        # private variable\n",
    "        self.salary = salary\n",
    "\n",
    "# creating object of a class\n",
    "emp = Employee('Oyindamola Apampa', 900000)\n",
    "\n",
    "#direct access to public instance variable\n",
    "print('Name:', emp.name)\n",
    "\n",
    "# direct access to private instance variable using name mangling\n",
    "print('Salary:', \"N\"+str(emp.salary))"
   ]
  },
  {
   "cell_type": "markdown",
   "metadata": {},
   "source": [
    "### Protected Instance Variable\n",
    "<ul><li>Protected instance variables are accessible within the class and also available to its sub-classes. </li><li>To define a protected variable, prefix the variable name with a single underscore <b>_</b>.</li><li>\n",
    "\n",
    "Protected instance variables are used when you implement inheritance and want to allow data members access to only child classes.</li></ul>"
   ]
  },
  {
   "cell_type": "code",
   "execution_count": 31,
   "metadata": {},
   "outputs": [
    {
     "name": "stdout",
     "output_type": "stream",
     "text": [
      "Employee name : Prince Ibekwe\n",
      "Working on project : Blockchain Development\n",
      "Project: Blockchain Development\n"
     ]
    }
   ],
   "source": [
    "# base class\n",
    "class Company:\n",
    "    # base constructor\n",
    "    def __init__(self):\n",
    "        # Protected instance variable\n",
    "        self.project = \"Blockchain Development\"\n",
    "\n",
    "# child class\n",
    "class Employee(Company):\n",
    "    # child constructor\n",
    "    def __init__(self, name):\n",
    "        self.name = name\n",
    "        \n",
    "        # invoke base constructor\n",
    "        Company.__init__(self)\n",
    "\n",
    "    def show(self):\n",
    "        print(\"Employee name :\", self.name)\n",
    "        \n",
    "        # Accessing protected instance variable in child class\n",
    "        print(\"Working on project :\", self.project)\n",
    "\n",
    "Company = Employee(\"Prince Ibekwe\")\n",
    "Company.show()\n",
    "\n",
    "# Direct access to protected instance variable\n",
    "print('Project:', Company.project)"
   ]
  },
  {
   "cell_type": "markdown",
   "metadata": {},
   "source": [
    "## Getters and Setters in Python\n",
    "<ul><li>To implement proper encapsulation in Python, setters and getters can be used.</li><li> The primary purpose of using getters and setters in object-oriented programs is to ensure data encapsulation.</li><li> Use the getter method to access instance variables and the setter methods to modify the instance variables.</li></ul>\n",
    "\n",
    "In Python, private variables are not hidden fields like in other programming languages. The getters and setters methods are often used when:\n",
    "\n",
    "<ul><li>When we want to avoid direct access to private variables</li><li>\n",
    "To add validation logic for setting a value</li></ul>"
   ]
  },
  {
   "cell_type": "code",
   "execution_count": 40,
   "metadata": {},
   "outputs": [
    {
     "name": "stdout",
     "output_type": "stream",
     "text": [
      "Name: Michael Illoba \n",
      "Age: 34\n",
      "\n",
      "\n",
      "Name: Michael Illoba \n",
      "Age: 26\n"
     ]
    }
   ],
   "source": [
    "class Student:\n",
    "    def __init__(self, name, age):\n",
    "        # public instance variable\n",
    "        self.name = name\n",
    "        # private instance variable\n",
    "        self.__age = age\n",
    "\n",
    "    # getter method\n",
    "    def get_age(self):\n",
    "        return self.__age\n",
    "\n",
    "    # setter method\n",
    "    def set_age(self, age):\n",
    "        self.__age = age\n",
    "\n",
    "stud = Student('Michael Illoba', 34)\n",
    "\n",
    "# retrieving age using getter\n",
    "print('Name:', stud.name, \"\\nAge:\", stud.get_age())\n",
    "\n",
    "# changing age using setter\n",
    "stud.set_age(26)\n",
    "\n",
    "# retrieving age using getter\n",
    "print('\\n\\nName:', stud.name, \"\\nAge:\", stud.get_age())"
   ]
  },
  {
   "cell_type": "code",
   "execution_count": 44,
   "metadata": {},
   "outputs": [
    {
     "name": "stdout",
     "output_type": "stream",
     "text": [
      "Student Details: David Usim 10\n",
      "Invalid roll no. Please set correct roll number\n",
      "Student Details: David Usim 25\n"
     ]
    }
   ],
   "source": [
    "class Student:\n",
    "    # constructor\n",
    "    def __init__(self, name, roll_no, age):\n",
    "        # public instance variable\n",
    "        self.name = name\n",
    "        # private instance variables to restrict access\n",
    "        # avoid direct data modification\n",
    "        self.__roll_no = roll_no\n",
    "        self.__age = age\n",
    "\n",
    "    def show(self):\n",
    "        print('Student Details:', self.name, self.__roll_no)\n",
    "\n",
    "    # getter methods\n",
    "    def get_roll_no(self):\n",
    "        return self.__roll_no\n",
    "\n",
    "    # setter method to modify instance variable\n",
    "    # condition to allow data modification with rules\n",
    "    def set_roll_no(self, number):\n",
    "        if number > 50:\n",
    "            print('Invalid roll no. Please set correct roll number')\n",
    "        else:\n",
    "            self.__roll_no = number\n",
    "\n",
    "# object instantiation\n",
    "info = Student('David Usim', 10, 15)\n",
    "\n",
    "# before modify\n",
    "info.show()\n",
    "\n",
    "# changing roll number using setter\n",
    "info.set_roll_no(120)\n",
    "\n",
    "info.set_roll_no(25)\n",
    "info.show()\n"
   ]
  },
  {
   "cell_type": "markdown",
   "metadata": {},
   "source": [
    "## Class Project I "
   ]
  },
  {
   "cell_type": "markdown",
   "metadata": {},
   "source": [
    "You have been contracted by the Registrar of Pan-Atlantic University (PAU) as an expert OOP developer to access the Student Information System (SIS) of PAU Student Council, inorder to classify the students grades, according to their age, into 3 categories; the pirates, the yankees and the bulls.\n",
    "\n",
    "Should you choose to accept this task, develop an OOP program that reads data from the SIS.csv file as attached, following the instructions below: \n",
    "\n",
    "<b>Instructions:</b>\n",
    "    <ul><li>If the student age is greater than 14 and less than 18, create a .csv file for that category called <b>The_Pirates</b> and display it.</li><li>\n",
    "    If the student age is greater than 18 and less than 22, create a file for that category called <b>The_Yankees</b> and display it.</li><li>\n",
    "    If the student age is greater than 22 and less than 25 create a file for that category called <b>The_Bulls</b> and display it.</li><li>\n",
    "    If the student age is greater than 25 <b>encapsulate the request</b> and use a getter method to return an error message\".</li></ul>\n"
   ]
  },
  {
   "cell_type": "code",
   "execution_count": 11,
   "metadata": {},
   "outputs": [
    {
     "data": {
      "text/html": [
       "<div>\n",
       "<style scoped>\n",
       "    .dataframe tbody tr th:only-of-type {\n",
       "        vertical-align: middle;\n",
       "    }\n",
       "\n",
       "    .dataframe tbody tr th {\n",
       "        vertical-align: top;\n",
       "    }\n",
       "\n",
       "    .dataframe thead th {\n",
       "        text-align: right;\n",
       "    }\n",
       "</style>\n",
       "<table border=\"1\" class=\"dataframe\">\n",
       "  <thead>\n",
       "    <tr style=\"text-align: right;\">\n",
       "      <th></th>\n",
       "      <th>MatNo</th>\n",
       "      <th>Name</th>\n",
       "      <th>Age</th>\n",
       "      <th>Grade</th>\n",
       "    </tr>\n",
       "  </thead>\n",
       "  <tbody>\n",
       "    <tr>\n",
       "      <th>0</th>\n",
       "      <td>1810</td>\n",
       "      <td>Aina Adeleke</td>\n",
       "      <td>16</td>\n",
       "      <td>80</td>\n",
       "    </tr>\n",
       "    <tr>\n",
       "      <th>1</th>\n",
       "      <td>1811</td>\n",
       "      <td>Sola Egbune</td>\n",
       "      <td>23</td>\n",
       "      <td>55</td>\n",
       "    </tr>\n",
       "    <tr>\n",
       "      <th>2</th>\n",
       "      <td>1812</td>\n",
       "      <td>Callistus Okeke</td>\n",
       "      <td>17</td>\n",
       "      <td>40</td>\n",
       "    </tr>\n",
       "    <tr>\n",
       "      <th>3</th>\n",
       "      <td>1813</td>\n",
       "      <td>Martin Alegbe</td>\n",
       "      <td>25</td>\n",
       "      <td>77</td>\n",
       "    </tr>\n",
       "    <tr>\n",
       "      <th>4</th>\n",
       "      <td>1814</td>\n",
       "      <td>Mary Akande</td>\n",
       "      <td>20</td>\n",
       "      <td>87</td>\n",
       "    </tr>\n",
       "    <tr>\n",
       "      <th>5</th>\n",
       "      <td>1815</td>\n",
       "      <td>Stella Olohimen</td>\n",
       "      <td>17</td>\n",
       "      <td>44</td>\n",
       "    </tr>\n",
       "    <tr>\n",
       "      <th>6</th>\n",
       "      <td>1816</td>\n",
       "      <td>Gabriel Pati</td>\n",
       "      <td>18</td>\n",
       "      <td>50</td>\n",
       "    </tr>\n",
       "    <tr>\n",
       "      <th>7</th>\n",
       "      <td>1817</td>\n",
       "      <td>Durojaiye Adamu</td>\n",
       "      <td>24</td>\n",
       "      <td>60</td>\n",
       "    </tr>\n",
       "    <tr>\n",
       "      <th>8</th>\n",
       "      <td>1818</td>\n",
       "      <td>Kolawole Alabi</td>\n",
       "      <td>27</td>\n",
       "      <td>67</td>\n",
       "    </tr>\n",
       "    <tr>\n",
       "      <th>9</th>\n",
       "      <td>1819</td>\n",
       "      <td>Tope Ogunleye</td>\n",
       "      <td>22</td>\n",
       "      <td>54</td>\n",
       "    </tr>\n",
       "    <tr>\n",
       "      <th>10</th>\n",
       "      <td>1820</td>\n",
       "      <td>Wilfred Nwachukwu</td>\n",
       "      <td>16</td>\n",
       "      <td>45</td>\n",
       "    </tr>\n",
       "    <tr>\n",
       "      <th>11</th>\n",
       "      <td>1821</td>\n",
       "      <td>Mildred James</td>\n",
       "      <td>15</td>\n",
       "      <td>70</td>\n",
       "    </tr>\n",
       "    <tr>\n",
       "      <th>12</th>\n",
       "      <td>1822</td>\n",
       "      <td>Glory Babalola</td>\n",
       "      <td>21</td>\n",
       "      <td>69</td>\n",
       "    </tr>\n",
       "    <tr>\n",
       "      <th>13</th>\n",
       "      <td>1823</td>\n",
       "      <td>Edith Ade</td>\n",
       "      <td>22</td>\n",
       "      <td>57</td>\n",
       "    </tr>\n",
       "    <tr>\n",
       "      <th>14</th>\n",
       "      <td>1824</td>\n",
       "      <td>Godwin Osahon</td>\n",
       "      <td>20</td>\n",
       "      <td>51</td>\n",
       "    </tr>\n",
       "    <tr>\n",
       "      <th>15</th>\n",
       "      <td>1825</td>\n",
       "      <td>Philip Odion</td>\n",
       "      <td>19</td>\n",
       "      <td>68</td>\n",
       "    </tr>\n",
       "    <tr>\n",
       "      <th>16</th>\n",
       "      <td>1826</td>\n",
       "      <td>Adelabu Glory</td>\n",
       "      <td>26</td>\n",
       "      <td>78</td>\n",
       "    </tr>\n",
       "    <tr>\n",
       "      <th>17</th>\n",
       "      <td>1827</td>\n",
       "      <td>Igor Lawal</td>\n",
       "      <td>20</td>\n",
       "      <td>55</td>\n",
       "    </tr>\n",
       "    <tr>\n",
       "      <th>18</th>\n",
       "      <td>1828</td>\n",
       "      <td>Abraham Esther</td>\n",
       "      <td>28</td>\n",
       "      <td>89</td>\n",
       "    </tr>\n",
       "    <tr>\n",
       "      <th>19</th>\n",
       "      <td>1829</td>\n",
       "      <td>Agbara Jamiat</td>\n",
       "      <td>26</td>\n",
       "      <td>67</td>\n",
       "    </tr>\n",
       "    <tr>\n",
       "      <th>20</th>\n",
       "      <td>1830</td>\n",
       "      <td>Gbemisola Adewale</td>\n",
       "      <td>21</td>\n",
       "      <td>80</td>\n",
       "    </tr>\n",
       "  </tbody>\n",
       "</table>\n",
       "</div>"
      ],
      "text/plain": [
       "    MatNo               Name  Age  Grade\n",
       "0    1810       Aina Adeleke   16     80\n",
       "1    1811        Sola Egbune   23     55\n",
       "2    1812    Callistus Okeke   17     40\n",
       "3    1813      Martin Alegbe   25     77\n",
       "4    1814        Mary Akande   20     87\n",
       "5    1815    Stella Olohimen   17     44\n",
       "6    1816       Gabriel Pati   18     50\n",
       "7    1817    Durojaiye Adamu   24     60\n",
       "8    1818     Kolawole Alabi   27     67\n",
       "9    1819      Tope Ogunleye   22     54\n",
       "10   1820  Wilfred Nwachukwu   16     45\n",
       "11   1821      Mildred James   15     70\n",
       "12   1822     Glory Babalola   21     69\n",
       "13   1823          Edith Ade   22     57\n",
       "14   1824      Godwin Osahon   20     51\n",
       "15   1825       Philip Odion   19     68\n",
       "16   1826      Adelabu Glory   26     78\n",
       "17   1827         Igor Lawal   20     55\n",
       "18   1828     Abraham Esther   28     89\n",
       "19   1829      Agbara Jamiat   26     67\n",
       "20   1830  Gbemisola Adewale   21     80"
      ]
     },
     "execution_count": 11,
     "metadata": {},
     "output_type": "execute_result"
    }
   ],
   "source": [
    "import pandas as pd\n",
    "df = pd.read_csv('SIS.csv')\n",
    "df\n"
   ]
  },
  {
   "cell_type": "code",
   "execution_count": 46,
   "metadata": {},
   "outputs": [
    {
     "name": "stdout",
     "output_type": "stream",
     "text": [
      "The_Pirates.csv has been created with 5 students.\n",
      "The_Yankees.csv has been created with 6 students.\n",
      "The_Bulls.csv has been created with 2 students.\n",
      "Age is greater than 25, cannot categorize\n"
     ]
    }
   ],
   "source": [
    "import pandas as pd\n",
    "\n",
    "class StudentCategorizer:\n",
    "    def __init__(self, filename):\n",
    "        self.filename = filename\n",
    "        self.students = pd.read_csv('SIS.csv')\n",
    "        self.error_message = \"\"\n",
    "\n",
    "    def categorize_students(self):\n",
    "        pirates = self.students[(self.students['Age'] > 14) & (self.students['Age'] < 18)]\n",
    "        yankees = self.students[(self.students['Age'] > 18) & (self.students['Age'] < 22)]\n",
    "        bulls = self.students[(self.students['Age'] > 22) & (self.students['Age'] < 25)]\n",
    "        errors = self.students[self.students['Age'] > 25]\n",
    "\n",
    "        self.write_to_file('The_Pirates.csv', pirates)\n",
    "        self.write_to_file('The_Yankees.csv', yankees)\n",
    "        self.write_to_file('The_Bulls.csv', bulls)\n",
    "\n",
    "        if not errors.empty:\n",
    "            self.error_message = \"Age is greater than 25, cannot categorize\"\n",
    "            print(self.get_error_message())\n",
    "\n",
    "    def write_to_file(self, filename, students):\n",
    "        if not students.empty:\n",
    "            students.to_csv(filename, index=False)\n",
    "            print(f\"{filename} has been created with {len(students)} students.\")\n",
    "\n",
    "    def get_error_message(self):\n",
    "        return self.error_message\n",
    "\n",
    "# Instantiate the categorizer and process the data\n",
    "categorizer = StudentCategorizer('SIS.csv')\n",
    "categorizer.categorize_students()\n"
   ]
  },
  {
   "cell_type": "code",
   "execution_count": null,
   "metadata": {},
   "outputs": [],
   "source": []
  }
 ],
 "metadata": {
  "kernelspec": {
   "display_name": "Python 3 (ipykernel)",
   "language": "python",
   "name": "python3"
  },
  "language_info": {
   "codemirror_mode": {
    "name": "ipython",
    "version": 3
   },
   "file_extension": ".py",
   "mimetype": "text/x-python",
   "name": "python",
   "nbconvert_exporter": "python",
   "pygments_lexer": "ipython3",
   "version": "3.11.7"
  }
 },
 "nbformat": 4,
 "nbformat_minor": 4
}
